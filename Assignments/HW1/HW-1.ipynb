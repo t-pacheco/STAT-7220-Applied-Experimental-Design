{
  "cells": [
    {
      "cell_type": "code",
      "source": [
        "import os\n",
        "os.chdir(\"/content\")\n",
        "!rm -rf STAT-7220-Applied-Experimental-Design\n",
        "print(os.getcwd())"
      ],
      "metadata": {
        "id": "2rcNRnjqCqPi",
        "outputId": "4b392343-95f4-4218-e7ee-919e740da416",
        "colab": {
          "base_uri": "https://localhost:8080/"
        }
      },
      "id": "2rcNRnjqCqPi",
      "execution_count": 14,
      "outputs": [
        {
          "output_type": "stream",
          "name": "stdout",
          "text": [
            "/content\n"
          ]
        }
      ]
    },
    {
      "cell_type": "code",
      "source": [
        "# 1. ENTER your GitHub username (the one that owns your fork)\n",
        "github_username = \"t-pacheco\"\n",
        "\n",
        "# 2. Name of the repo (don't change unless your fork name is different)\n",
        "repo_name = \"STAT-7220-Applied-Experimental-Design\"\n",
        "\n",
        "# 3. Build the full repo URL for cloning\n",
        "repo_url = f\"https://github.com/{github_username}/{repo_name}.git\"\n",
        "\n",
        "import os\n",
        "\n",
        "# --- Detect if we're already in a repo ---\n",
        "cwd = os.getcwd()\n",
        "if cwd.endswith(repo_name):\n",
        "    print(f\"✅ Already inside repo folder: {cwd}\")\n",
        "else:\n",
        "    # --- If the repo folder exists, check if it's nested ---\n",
        "    if os.path.exists(repo_name):\n",
        "        print(f\"⚠️ Found existing folder '{repo_name}'. Skipping clone to avoid nesting.\")\n",
        "    else:\n",
        "        print(f\"📥 Cloning repo from {repo_url}...\")\n",
        "        os.system(f\"git clone {repo_url}\")\n",
        "\n",
        "    # --- Change to repo directory ---\n",
        "    if os.path.exists(repo_name):\n",
        "        os.chdir(repo_name)\n",
        "        print(f\"📂 Changed directory to: {os.getcwd()}\")\n",
        "    else:\n",
        "        print(\"❌ ERROR: Repo folder not found. Please check your GitHub username.\")\n",
        "\n",
        "# --- Check if this is the instructor's repo instead of student's fork ---\n",
        "# This command needs to be run from within the repository directory\n",
        "remote_url = os.popen(\"git config --get remote.origin.url\").read().strip()\n",
        "\n",
        "if \"abrown9008\" in remote_url:\n",
        "    print(\"⚠️ WARNING: You are working in the instructor's repo, not your fork!\")\n",
        "    print(\"💡 Please fork the repo to your own account and update `github_username` above.\")\n",
        "else:\n",
        "    print(f\"🔗 Connected to fork at: {remote_url}\")\n",
        "\n",
        "# Set Today's Directory #\n",
        "\n",
        "today_dir = \"Assignments/HW1\"\n",
        "os.chdir(today_dir)\n",
        "print(f\"📂 Changed directory to: {os.getcwd()}\")"
      ],
      "metadata": {
        "id": "iB6oxsTUCMpm",
        "outputId": "10c40a18-1599-4778-e805-0d3b46cfefd5",
        "colab": {
          "base_uri": "https://localhost:8080/"
        }
      },
      "id": "iB6oxsTUCMpm",
      "execution_count": 15,
      "outputs": [
        {
          "output_type": "stream",
          "name": "stdout",
          "text": [
            "📥 Cloning repo from https://github.com/t-pacheco/STAT-7220-Applied-Experimental-Design.git...\n",
            "📂 Changed directory to: /content/STAT-7220-Applied-Experimental-Design\n",
            "🔗 Connected to fork at: https://github.com/t-pacheco/STAT-7220-Applied-Experimental-Design.git\n",
            "📂 Changed directory to: /content/STAT-7220-Applied-Experimental-Design/Assignments/HW1\n"
          ]
        }
      ]
    },
    {
      "cell_type": "markdown",
      "id": "a6d135f8",
      "metadata": {
        "id": "a6d135f8"
      },
      "source": [
        "# Homework 1: Completely Randomized Designs\n",
        "## Dr. Austin R. Brown\n",
        "### School of Data Science & Analytics\n",
        "### Kennesaw State University\n",
        "\n",
        "**DUE: September 12, 2025**\n",
        "\n",
        "**INSTRUCTIONS:** You are a quality control analyst for a craft brewery experimenting with a new India Pale Ale (IPA). One key quality attribute of IPA is its bitterness, measured in International Bitterness Units (IBUs). The brewery wants to determine if the aging time (3, 4, or 5 weeks) affects the IBUs of the beer. To test this, the brewing team brews a single batch of the experimental IPA and divides it into aging tanks, with each tank randomly assigned to be aged for 3, 4, or 5 weeks. After aging, the IBUs of ten randomly selected bottles from each aging time are measured using a spectrophotometer. The data are in the file `IPA.xlsx`. With these data, I want you to:\n",
        "\n",
        "**Question 1.** Briefly define the objective of this experiment\n",
        "\n",
        "The objective of this experiment is to determine how aging time affects the bitterness of an IPA.\n",
        "\n",
        "\n",
        "**Question 2.** Specify the outcome variable\n",
        "\n",
        "The outcome variable is bitterness (IBU).\n",
        "\n",
        "**Question 3.** Specify the independent variable. What are some possible lurking variables?\n",
        "\n",
        "The independent variable is the aging time. Some possible lurking variables are...\n",
        "\n",
        "**Question 4.** Briefly explain why a completely randomized design is appropriate for this experiment.\n",
        "\n",
        "Since all of the IPAs are coming from the same batch, we have eliminated major lurking variables making a complete randomized design the best way to test for differences across the three levels of aging time.\n",
        "\n",
        "**Question 5.** State the null and alternative hypotheses for this experiment.\n",
        "\n",
        "Null: The average IBU is equal for all aging times\n",
        "$$ H_0: \\mu_{\\text{3 weeks}} = \\mu_{\\text{4 weeks}} = \\mu_{\\text{5 weeks}} $$\n",
        "\n",
        "Alternative: The average IBU for at least two groups differ.\n",
        "$$ H_1: \\mu_{\\text{3 weeks}} \\neq \\mu_{\\text{4 weeks}} \\neq \\mu_{\\text{5 weeks}}$$\n",
        "\n",
        "**Question 6.** Perform appropriate exploratory analysis, including summary statistics **and** data visualizations. Do the results of these analyses support the null or alternative hypothesis more strongly?\n",
        "\n",
        "Based on the EDA and summary statistics it appears that the IPAs aged for 3 weeks will have a different average bitterness than those aged for 4 and 5 weeks, therefore supporting the alternative hypothesis more."
      ]
    },
    {
      "cell_type": "code",
      "source": [
        "import pandas as pd\n",
        "\n",
        "# read in the IPA dataset\n",
        "ipa = pd.read_excel(\"IPA.xlsx\")\n",
        "\n",
        "# checking that it read in properly\n",
        "ipa.info()\n",
        "\n",
        "## EDA & SUMMARY STATISTICS\n",
        "\n",
        "import seaborn as sns\n",
        "import matplotlib.pyplot as plt\n",
        "\n",
        "# getting mean IBU and std dev by aging time\n",
        "summary_stats = ipa.groupby('Weeks')['IBU'].agg(['mean','std'])\n",
        "\n",
        "print(summary_stats)\n",
        "\n",
        "# boxplot of IBU by aging time\n",
        "sns.set_style(\"whitegrid\")\n",
        "\n",
        "## Create boxplot using seaborn ##\n",
        "\n",
        "sns.boxplot(x=\"Weeks\",y=\"IBU\",data=ipa, palette=\"viridis\")\n",
        "\n",
        "## Add Title and Labels using matplotlib ##\n",
        "\n",
        "plt.title(\"Boxplot of Bitterness by Aging Time\", loc='center')\n",
        "plt.xlabel(\"Aging Time (weeks)\")\n",
        "plt.ylabel(\"Bitterness (IBU)\")\n"
      ],
      "metadata": {
        "colab": {
          "base_uri": "https://localhost:8080/",
          "height": 839
        },
        "id": "mjrMJS30FeQ6",
        "outputId": "65c0f536-34d2-452c-a660-fe6c224aaf9a"
      },
      "id": "mjrMJS30FeQ6",
      "execution_count": 21,
      "outputs": [
        {
          "output_type": "stream",
          "name": "stdout",
          "text": [
            "<class 'pandas.core.frame.DataFrame'>\n",
            "RangeIndex: 30 entries, 0 to 29\n",
            "Data columns (total 2 columns):\n",
            " #   Column  Non-Null Count  Dtype  \n",
            "---  ------  --------------  -----  \n",
            " 0   Weeks   30 non-null     object \n",
            " 1   IBU     30 non-null     float64\n",
            "dtypes: float64(1), object(1)\n",
            "memory usage: 612.0+ bytes\n",
            "           mean        std\n",
            "Weeks                     \n",
            "3 Weeks  45.657   5.548563\n",
            "4 Weeks  60.164  10.390411\n",
            "5 Weeks  71.791  12.627946\n"
          ]
        },
        {
          "output_type": "stream",
          "name": "stderr",
          "text": [
            "/tmp/ipython-input-1482212201.py:24: FutureWarning: \n",
            "\n",
            "Passing `palette` without assigning `hue` is deprecated and will be removed in v0.14.0. Assign the `x` variable to `hue` and set `legend=False` for the same effect.\n",
            "\n",
            "  sns.boxplot(x=\"Weeks\",y=\"IBU\",data=ipa, palette=\"viridis\")\n"
          ]
        },
        {
          "output_type": "execute_result",
          "data": {
            "text/plain": [
              "Text(0, 0.5, 'Bitterness (IBU)')"
            ]
          },
          "metadata": {},
          "execution_count": 21
        },
        {
          "output_type": "display_data",
          "data": {
            "text/plain": [
              "<Figure size 640x480 with 1 Axes>"
            ],
            "image/png": "[encoded data removed]"
          },
          "metadata": {}
        }
      ]
    },
    {
      "cell_type": "markdown",
      "source": [
        "**Question 7.** Build a one-way ANOVA model. Test the assumption of normality using **both** a visual method and a testing method. Do the results of the normality test(s) support the assumption of normality?\n",
        "\n",
        "**Question 8.** Test the assumption of homogeneity of variance using **both** a visual method and a testing method. Do the results of the test(s) support the assumption of homogeneity of variance?\n",
        "\n",
        "**Question 9.** Report the F-statistic and its associated p-value from the one-way ANOVA model. Which of our two hypotheses is more strongly supported? Why?\n",
        "\n",
        "**Question 10.** If the data more strongly support the alternative hypothesis, perform Tukey's HSD post-hoc test to determine which aging times are significantly different from each other. If the data more strongly support the null hypothesis, explain why a post-hoc test would not be appropriate.\n",
        "\n",
        "**Question 11.** Write a brief, contextual conclusion summarizing the results of your analyses."
      ],
      "metadata": {
        "id": "pVyUtH2XFXLb"
      },
      "id": "pVyUtH2XFXLb"
    }
  ],
  "metadata": {
    "language_info": {
      "name": "python"
    },
    "colab": {
      "provenance": []
    },
    "kernelspec": {
      "name": "python3",
      "display_name": "Python 3"
    }
  },
  "nbformat": 4,
  "nbformat_minor": 5
}